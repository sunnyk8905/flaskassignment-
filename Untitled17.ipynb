{
 "cells": [
  {
   "cell_type": "code",
   "execution_count": null,
   "id": "ae04731b-2e96-4015-8a52-971c779a78da",
   "metadata": {},
   "outputs": [],
   "source": [
    "Q1. What is Flask Framework? What are the advantages of Flask Framework?"
   ]
  },
  {
   "cell_type": "code",
   "execution_count": null,
   "id": "8ecbb8ce-81ad-419a-933b-3cbea9007e89",
   "metadata": {},
   "outputs": [],
   "source": [
    "Flask is a popular Python web framework that allows developers to build web applications easily and quickly."
   ]
  },
  {
   "cell_type": "code",
   "execution_count": null,
   "id": "95555f2a-5431-4a78-b431-aef32307d0f9",
   "metadata": {},
   "outputs": [],
   "source": [
    "Advantages of Flask Framework:\n",
    "\n",
    "Simplicity,Lightweight and Flexible,Easy to Learn,Modular and Extensible,Integration with Existing Technologies\n",
    "Scalability,Testing and Debugging."
   ]
  },
  {
   "cell_type": "code",
   "execution_count": null,
   "id": "d3f90440-6f41-4167-bce2-85a029d5f67d",
   "metadata": {},
   "outputs": [],
   "source": [
    "Q2. Create a simple Flask application to display ‘Hello World!!’. Attach the screenshot of the output in\n",
    "Jupyter Notebook."
   ]
  },
  {
   "cell_type": "code",
   "execution_count": null,
   "id": "a01d9f62-d0a1-4fb5-ae4a-d8e9157ad50b",
   "metadata": {},
   "outputs": [
    {
     "name": "stdout",
     "output_type": "stream",
     "text": [
      " * Serving Flask app '__main__'\n",
      " * Debug mode: off\n"
     ]
    },
    {
     "name": "stderr",
     "output_type": "stream",
     "text": [
      "WARNING: This is a development server. Do not use it in a production deployment. Use a production WSGI server instead.\n",
      " * Running on http://127.0.0.1:5000\n",
      "Press CTRL+C to quit\n"
     ]
    }
   ],
   "source": [
    "from flask import Flask\n",
    "\n",
    "app = Flask(__name__)\n",
    "\n",
    "@app.route('/')\n",
    "def hello_world():\n",
    "    return 'Hello World!!'\n",
    "\n",
    "if __name__ == '__main__':\n",
    "    app.run()\n"
   ]
  },
  {
   "cell_type": "code",
   "execution_count": 2,
   "id": "15c4fe57-390a-4fe0-8554-7fcbf9da6788",
   "metadata": {},
   "outputs": [
    {
     "name": "stdout",
     "output_type": "stream",
     "text": [
      "Collecting flask\n",
      "  Downloading Flask-2.3.2-py3-none-any.whl (96 kB)\n",
      "\u001b[2K     \u001b[90m━━━━━━━━━━━━━━━━━━━━━━━━━━━━━━━━━━━━━━━━\u001b[0m \u001b[32m96.9/96.9 kB\u001b[0m \u001b[31m4.8 MB/s\u001b[0m eta \u001b[36m0:00:00\u001b[0m\n",
      "\u001b[?25hCollecting Werkzeug>=2.3.3\n",
      "  Downloading Werkzeug-2.3.6-py3-none-any.whl (242 kB)\n",
      "\u001b[2K     \u001b[90m━━━━━━━━━━━━━━━━━━━━━━━━━━━━━━━━━━━━━━\u001b[0m \u001b[32m242.5/242.5 kB\u001b[0m \u001b[31m24.3 MB/s\u001b[0m eta \u001b[36m0:00:00\u001b[0m\n",
      "\u001b[?25hRequirement already satisfied: Jinja2>=3.1.2 in /opt/conda/lib/python3.10/site-packages (from flask) (3.1.2)\n",
      "Requirement already satisfied: click>=8.1.3 in /opt/conda/lib/python3.10/site-packages (from flask) (8.1.3)\n",
      "Collecting itsdangerous>=2.1.2\n",
      "  Downloading itsdangerous-2.1.2-py3-none-any.whl (15 kB)\n",
      "Collecting blinker>=1.6.2\n",
      "  Downloading blinker-1.6.2-py3-none-any.whl (13 kB)\n",
      "Requirement already satisfied: MarkupSafe>=2.0 in /opt/conda/lib/python3.10/site-packages (from Jinja2>=3.1.2->flask) (2.1.1)\n",
      "Installing collected packages: Werkzeug, itsdangerous, blinker, flask\n",
      "  Attempting uninstall: blinker\n",
      "    Found existing installation: blinker 1.5\n",
      "    Uninstalling blinker-1.5:\n",
      "      Successfully uninstalled blinker-1.5\n",
      "Successfully installed Werkzeug-2.3.6 blinker-1.6.2 flask-2.3.2 itsdangerous-2.1.2\n",
      "Note: you may need to restart the kernel to use updated packages.\n"
     ]
    }
   ],
   "source": [
    "pip install flask"
   ]
  },
  {
   "cell_type": "code",
   "execution_count": null,
   "id": "e0c7a9a4-cba0-4704-ac86-0a57edfa7aae",
   "metadata": {},
   "outputs": [],
   "source": [
    "Q3. What is App routing in Flask? Why do we use app routes?"
   ]
  },
  {
   "cell_type": "code",
   "execution_count": null,
   "id": "80f93543-2939-4bfa-9234-63fce0dfc936",
   "metadata": {},
   "outputs": [],
   "source": [
    "app routing refers to the process of mapping URLs  to specific functions or views in your web application.\n",
    "It allows you to define different routes or endpoints that your application can respond to based on the requested URL."
   ]
  },
  {
   "cell_type": "code",
   "execution_count": null,
   "id": "dc851dc4-f827-4114-a265-5bda7af6c185",
   "metadata": {},
   "outputs": [],
   "source": [
    "we use app routes because  App routes allow you to map specific URLs to the corresponding functions or views in your application. "
   ]
  },
  {
   "cell_type": "code",
   "execution_count": null,
   "id": "bf41a8cc-655c-48c4-9fac-af2fa2c56818",
   "metadata": {},
   "outputs": [],
   "source": [
    "Q4. Create a “/welcome” route to display the welcome message “Welcome to ABC Corporation” and a “/”\n",
    "route to show the following details:\n",
    "Company Name: ABC Corporation\n",
    "Location: India\n",
    "Contact Detail: 999-999-9999\n",
    "Attach the screenshot of the output in Jupyter Notebook."
   ]
  },
  {
   "cell_type": "code",
   "execution_count": null,
   "id": "31af750a-3c49-4802-9870-2fc059b8b61c",
   "metadata": {},
   "outputs": [],
   "source": [
    "from flask import Flask\n",
    "\n",
    "app = Flask(__name__)\n",
    "\n",
    "@app.route('/welcome')\n",
    "def welcome():\n",
    "    return 'Welcome to ABC Corporation'\n",
    "\n",
    "@app.route('/')\n",
    "def company_details():\n",
    "    details = '''\n",
    "    Company Name: ABC Corporation\n",
    "    Location: India\n",
    "    Contact Detail: 999-999-9999\n",
    "    '''\n",
    "    return details\n",
    "\n",
    "if __name__ == '__main__':\n",
    "    app.run()\n",
    "\n"
   ]
  },
  {
   "cell_type": "code",
   "execution_count": null,
   "id": "5371546f-1f2c-4746-929a-df46e51f6f7a",
   "metadata": {},
   "outputs": [],
   "source": [
    "Q5. What function is used in Flask for URL Building? Write a Python code to demonstrate the working of the\n",
    "url_for() function.\n"
   ]
  },
  {
   "cell_type": "code",
   "execution_count": null,
   "id": "e800f99c-a594-4792-bfbe-43a29ad0039e",
   "metadata": {},
   "outputs": [],
   "source": [
    "In Flask, the url_for() function is used for URL building."
   ]
  },
  {
   "cell_type": "code",
   "execution_count": null,
   "id": "0ffedd31-1a29-4bbd-aca3-f832ee5f80c7",
   "metadata": {},
   "outputs": [],
   "source": [
    "from flask import Flask, url_for\n",
    "\n",
    "app = Flask(__name__)\n",
    "\n",
    "@app.route('/')\n",
    "def index():\n",
    "    return 'Welcome to the Home Page'\n",
    "\n",
    "@app.route('/about')\n",
    "def about():\n",
    "    return 'This is the About Page'\n",
    "\n",
    "@app.route('/contact')\n",
    "def contact():\n",
    "    return 'This is the Contact Page'\n",
    "\n",
    "@app.route('/user/<username>')\n",
    "def user_profile(username):\n",
    "    return f'This is the profile page of {username}'\n",
    "\n",
    "if __name__ == '__main__':\n",
    "    with app.test_request_context():\n",
    "        \n",
    "        home_url = url_for('index')\n",
    "        about_url = url_for('about')\n",
    "        contact_url = url_for('contact')\n",
    "        profile_url = url_for('user_profile', username='John')\n",
    "\n",
    "        \n",
    "        print(f'Home URL: {home_url}')\n",
    "        print(f'About URL: {about_url}')\n",
    "        print(f'Contact URL: {contact_url}')\n",
    "        print(f'Profile URL: {profile_url}')\n"
   ]
  },
  {
   "cell_type": "code",
   "execution_count": null,
   "id": "b8e00fdd-2ed4-4e50-bded-4225c14ad0c7",
   "metadata": {},
   "outputs": [],
   "source": []
  }
 ],
 "metadata": {
  "kernelspec": {
   "display_name": "Python 3 (ipykernel)",
   "language": "python",
   "name": "python3"
  },
  "language_info": {
   "codemirror_mode": {
    "name": "ipython",
    "version": 3
   },
   "file_extension": ".py",
   "mimetype": "text/x-python",
   "name": "python",
   "nbconvert_exporter": "python",
   "pygments_lexer": "ipython3",
   "version": "3.10.8"
  }
 },
 "nbformat": 4,
 "nbformat_minor": 5
}
